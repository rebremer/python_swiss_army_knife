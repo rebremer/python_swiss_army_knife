{
 "cells": [
  {
   "cell_type": "markdown",
   "metadata": {},
   "source": [
    "# This notebook contains the following Python tutorials\n",
    "1. Object-orientied programming\n",
    "2. Matrix calculus using numpy\n",
    "3. Statistical analysis using pandas\n",
    "4. Write/read results to SQLDB \n",
    "\n",
    "Further explanation of notebook can be found in following blog:"
   ]
  },
  {
   "cell_type": "markdown",
   "metadata": {},
   "source": [
    "## 1: Object-orientied programming"
   ]
  },
  {
   "cell_type": "markdown",
   "metadata": {},
   "source": [
    "### 1a. Load necessary libraries"
   ]
  },
  {
   "cell_type": "code",
   "execution_count": 1,
   "metadata": {},
   "outputs": [],
   "source": [
    "# Load necessary libraries\n",
    "import numpy as np\n",
    "from datetime import date"
   ]
  },
  {
   "cell_type": "markdown",
   "metadata": {},
   "source": [
    "### 1b. Create 3 classes"
   ]
  },
  {
   "cell_type": "code",
   "execution_count": 2,
   "metadata": {},
   "outputs": [],
   "source": [
    "# Class 1: Player\n",
    "class Player(object):\n",
    "    _positionList = {'goalkeeper', 'defender', 'midfielder', 'striker'}\n",
    "    \n",
    "    def __init__(self,p):\n",
    "        # Python and (C#,Java) differ in this behaviour, construct variable in constructor, otherwise static behaviour\n",
    "        # See also https://bugs.python.org/issue1437\n",
    "        self._playerName=p\n",
    "        self._trainingList=[]\n",
    "        self._trainingRawData = np.empty((0,3), int)\n",
    "\n",
    "    def setAge(self, age):\n",
    "        self._age=age\n",
    "        print(self._playerName + \" has age \" + str(age))\n",
    "        \n",
    "    def setPosition(self, pos):\n",
    "        if pos in self._positionList:\n",
    "            self._position=pos\n",
    "            print(self._playerName + \" will be playing on position \" + pos)\n",
    "        else:\n",
    "            raise ValueError(\"Value {} not in Enum list.\".format(pos))        \n",
    "\n",
    "    def setTraining(self, t, rawdata):\n",
    "        self._trainingList.append(t)\n",
    "        self._trainingRawData = np.append(self._trainingRawData, rawdata, axis=0)\n",
    "\n",
    "    def getTrainingRawData(self):\n",
    "        return self._trainingRawData\n",
    "\n",
    "    def getTrainingFilter(self, stage, tt, date):\n",
    "        for index, training in enumerate(self._trainingList):\n",
    "            if training.getStage() == stage and training.getTrainingType() == tt and training.getDate() == date:\n",
    "                return self._trainingRawData[index]\n",
    "\n",
    "    def getName(self):\n",
    "        return self._playerName"
   ]
  },
  {
   "cell_type": "code",
   "execution_count": 3,
   "metadata": {},
   "outputs": [],
   "source": [
    "# Class 2: FirstTeamPlayer\n",
    "class FirstTeamPlayer(Player):\n",
    "    def __init__(self,ftp):\n",
    "        Player.__init__(self, ftp)\n",
    "\n",
    "    def setPosition(self,pos1, pos2):\n",
    "        if pos1 in self._positionList and pos2 in self._positionList:\n",
    "            self._positionComp=pos1\n",
    "            self._positionCL=pos2\n",
    "            print(self._playerName + \" will be playing on position \" + pos1 + \" in the competition and \" + pos2 + \" in the CL\")\n",
    "        else:\n",
    "            raise ValueError(\"Value {} and/or {} not in Enum list.\".format(pos1, pos2))   \n",
    "\n",
    "    def setNumber(self,number):\n",
    "        self._number=number\n",
    "        print(self._playerName + \" has number \" + str(number))"
   ]
  },
  {
   "cell_type": "code",
   "execution_count": 4,
   "metadata": {},
   "outputs": [],
   "source": [
    "### Class 3: Training\n",
    "class Training(object):\n",
    "    _stageList = {'ArenA', 'Toekomst', 'Pool', 'Gym'}\n",
    "    _trainingTypeList = {'strength', 'cardio', 'technique', 'friendly game'}\n",
    "\n",
    "    def __init__(self, stage, tt, date):\n",
    "\n",
    "        if stage in self._stageList:\n",
    "            self._stage = stage\n",
    "        else:\n",
    "            raise ValueError(\"Value {} not in Enum list.\".format(stage))\n",
    "        if tt in self._trainingTypeList:\n",
    "            self._trainingType = tt\n",
    "        else:\n",
    "            raise ValueError(\"Value {} not in Enum list.\".format(tt))\n",
    "\n",
    "        # To do: Test for valid date (python does not use strong typing)\n",
    "        self._date = date\n",
    "\n",
    "    def getStage(self):\n",
    "        return self._stage\n",
    "\n",
    "    def getTrainingType(self):\n",
    "        return self._trainingType\n",
    "\n",
    "    def getDate(self):\n",
    "        return self._date"
   ]
  },
  {
   "cell_type": "markdown",
   "metadata": {},
   "source": [
    "### 1c. Inheritance"
   ]
  },
  {
   "cell_type": "code",
   "execution_count": 5,
   "metadata": {},
   "outputs": [],
   "source": [
    "# Construct two players, FirstTeamPlayer class inherits from Player class\n",
    "player1 = Player(\"Janssen\")\n",
    "player2 = FirstTeamPlayer(\"Tadic\")"
   ]
  },
  {
   "cell_type": "code",
   "execution_count": 6,
   "metadata": {},
   "outputs": [
    {
     "name": "stdout",
     "output_type": "stream",
     "text": [
      "Janssen has age 20\n",
      "Tadic has age 30\n"
     ]
    }
   ],
   "source": [
    "# Set age of players. Notice that setAge method is inherited and is not present in class FirstTeamPlayer\n",
    "player1.setAge(20)\n",
    "player2.setAge(30)"
   ]
  },
  {
   "cell_type": "markdown",
   "metadata": {},
   "source": [
    "### 1d. Polymorphism"
   ]
  },
  {
   "cell_type": "code",
   "execution_count": 7,
   "metadata": {},
   "outputs": [
    {
     "name": "stdout",
     "output_type": "stream",
     "text": [
      "Janssen will be playing on position goalkeeper\n",
      "Tadic will be playing on position midfielder in the competition and striker in the CL\n"
     ]
    }
   ],
   "source": [
    "# Set position of player. Notice that setPosition method is redefined (overloaded) in class FirstTeamPlayer\n",
    "player1.setPosition(\"goalkeeper\")\n",
    "player2.setPosition(\"midfielder\", \"striker\")"
   ]
  },
  {
   "cell_type": "code",
   "execution_count": 8,
   "metadata": {},
   "outputs": [
    {
     "name": "stdout",
     "output_type": "stream",
     "text": [
      "Tadic has number 10\n"
     ]
    }
   ],
   "source": [
    "# Set Numer of Player. Notice that setNumber method is only present in class  \n",
    "player2.setNumber(10)\n",
    "#player.setNumber(99) will result in failure"
   ]
  },
  {
   "cell_type": "markdown",
   "metadata": {},
   "source": [
    "### 1e. Data encapsulation"
   ]
  },
  {
   "cell_type": "code",
   "execution_count": 9,
   "metadata": {},
   "outputs": [],
   "source": [
    "# Create new traning object and add traningsdata to player object. Notice that a numpy array is used as attribute\n",
    "training1=Training('Toekomst', 'cardio', date(2019,4,19))\n",
    "player1.setTraining(training1, rawdata=np.random.rand(1,3))\n",
    "player2.setTraining(training1, rawdata=np.random.rand(1,3))"
   ]
  },
  {
   "cell_type": "code",
   "execution_count": 10,
   "metadata": {},
   "outputs": [],
   "source": [
    "# Add two new trainings objects\n",
    "training2=Training('ArenA', 'friendly game', date(2019,4,20))\n",
    "player1.setTraining(training2, rawdata=np.random.rand(1,3))\n",
    "player2.setTraining(training2, rawdata=np.random.rand(1,3))\n",
    "\n",
    "training3=Training('Gym', 'strength', date(2019,4,20))\n",
    "player1.setTraining(training3, rawdata=np.random.rand(1,3))\n",
    "player2.setTraining(training3, rawdata=np.random.rand(1,3))"
   ]
  },
  {
   "cell_type": "code",
   "execution_count": 11,
   "metadata": {},
   "outputs": [
    {
     "name": "stdout",
     "output_type": "stream",
     "text": [
      "All trainingdata from player: Janssen\n",
      "[[0.91874195 0.95283054 0.27498952]\n",
      " [0.15119496 0.64071022 0.0586225 ]\n",
      " [0.62107961 0.49377632 0.57355772]]\n",
      "All trainingdata from player: Tadic\n",
      "[[0.47795618 0.64172318 0.25835417]\n",
      " [0.72819817 0.29756663 0.86216762]\n",
      " [0.96381473 0.91784352 0.258435  ]]\n",
      "Trainingdata from player Janssen for first training \n",
      "[0.15119496 0.64071022 0.0586225 ]\n",
      "Trainingdata from player Tadic for last training \n",
      "[0.96381473 0.91784352 0.258435  ]\n"
     ]
    }
   ],
   "source": [
    "# Retrieve data using get methods. Notice that if an attribute does not have get method, its data cannot be retrieved\n",
    "print (\"All trainingdata from player: \" + player1.getName())\n",
    "print (player1.getTrainingRawData())\n",
    "print (\"All trainingdata from player: \" + player2.getName())\n",
    "print (player2.getTrainingRawData())\n",
    "print (\"Trainingdata from player \" + player1.getName() + \" for first training \")\n",
    "print (player1.getTrainingFilter('ArenA', 'friendly game', date(2019,4,20)))\n",
    "print (\"Trainingdata from player \" + player2.getName() + \" for last training \")\n",
    "print (player2.getTrainingFilter('Gym', 'strength', date(2019,4,20)))"
   ]
  },
  {
   "cell_type": "code",
   "execution_count": 12,
   "metadata": {},
   "outputs": [
    {
     "data": {
      "text/plain": [
       "20"
      ]
     },
     "execution_count": 12,
     "metadata": {},
     "output_type": "execute_result"
    }
   ],
   "source": [
    "# this will not work\n",
    "#player.getAge()\n",
    "# This still works and differs from Java, C#. See explanation: https://stackoverflow.com/questions/797771/python-protected-attributes\n",
    "player1._age"
   ]
  },
  {
   "cell_type": "markdown",
   "metadata": {},
   "source": [
    "## 2: Matrix calculus using numpy"
   ]
  },
  {
   "cell_type": "markdown",
   "metadata": {},
   "source": [
    "## 2a. Create numpy matrix data"
   ]
  },
  {
   "cell_type": "code",
   "execution_count": 13,
   "metadata": {},
   "outputs": [
    {
     "name": "stdout",
     "output_type": "stream",
     "text": [
      "[[0.91874195 0.95283054 0.27498952]\n",
      " [0.15119496 0.64071022 0.0586225 ]\n",
      " [0.62107961 0.49377632 0.57355772]]\n",
      "[[0.47795618 0.64172318 0.25835417]\n",
      " [0.72819817 0.29756663 0.86216762]\n",
      " [0.96381473 0.91784352 0.258435  ]]\n"
     ]
    }
   ],
   "source": [
    "# Take the matrix data from player objecs that were created earlier\n",
    "m1=player1.getTrainingRawData()\n",
    "m2=player2.getTrainingRawData()\n",
    "print(m1)\n",
    "print(m2)"
   ]
  },
  {
   "cell_type": "markdown",
   "metadata": {},
   "source": [
    "## 2b. Simple operations"
   ]
  },
  {
   "cell_type": "code",
   "execution_count": 14,
   "metadata": {},
   "outputs": [
    {
     "name": "stdout",
     "output_type": "stream",
     "text": [
      "(3, 3)\n",
      "0.952830543186292\n",
      "0.952830543186292\n",
      "[0.91874195 0.95283054 0.27498952]\n",
      "[[0.91874195 0.95283054 0.27498952]]\n",
      "[[0.91874195 0.95283054 0.27498952]\n",
      " [0.15119496 0.64071022 0.0586225 ]]\n",
      "[0.91874195 0.15119496 0.62107961]\n",
      "[[0.91874195 0.95283054 0.27498952]]\n",
      "[[0.64071022 0.0586225 ]\n",
      " [0.49377632 0.57355772]]\n"
     ]
    }
   ],
   "source": [
    "#Access values\n",
    "print(m1.shape)\n",
    "\n",
    "print(m1[0][1])\n",
    "print(m1[0,1])\n",
    "print(m1[0])\n",
    "\n",
    "print(m1[0:1])\n",
    "print(m1[0:2])\n",
    "\n",
    "print(m1[:,0])\n",
    "print(m1[0:1,0:])\n",
    "print(m1[1:3,1:3])"
   ]
  },
  {
   "cell_type": "code",
   "execution_count": 15,
   "metadata": {},
   "outputs": [
    {
     "name": "stdout",
     "output_type": "stream",
     "text": [
      "[[ 0.44078577  0.31110737  0.01663535]\n",
      " [-0.57700321  0.34314359 -0.80354512]\n",
      " [-0.34273512 -0.42406719  0.31512272]]\n",
      "[[1.39669812 1.59455372 0.5333437 ]\n",
      " [0.87939313 0.93827686 0.92079012]\n",
      " [1.58489434 1.41161984 0.83199271]]\n",
      "[[0.43911839 0.61145344 0.07104469]\n",
      " [0.11009989 0.19065398 0.05054242]\n",
      " [0.59860568 0.4532094  0.14822739]]\n",
      "[[1.92223051 1.48479996 1.06438971]\n",
      " [0.20762886 2.15316554 0.06799432]\n",
      " [0.6443973  0.53797441 2.21935003]]\n"
     ]
    }
   ],
   "source": [
    "#Arithmetic\n",
    "tmp1=m1-m2\n",
    "tmp2=m1+m2\n",
    "tmp3=m1*m2 # [m2_11*m1_11,  ..,  m1_33*m2_33]\n",
    "tmp4=m1/m2 # [m2_11/m1_11,  ..,  m1_33/m2_33]\n",
    "\n",
    "print(tmp1)\n",
    "print(tmp2)\n",
    "print(tmp3)\n",
    "print(tmp4)"
   ]
  },
  {
   "cell_type": "markdown",
   "metadata": {},
   "source": [
    "### 2c. Matrix operations"
   ]
  },
  {
   "cell_type": "code",
   "execution_count": 16,
   "metadata": {},
   "outputs": [
    {
     "name": "stdout",
     "output_type": "stream",
     "text": [
      "[[1.3980068  1.12550593 1.12992738]\n",
      " [0.59532981 0.34148558 0.60661156]\n",
      " [1.20921923 1.07192877 0.73440385]]\n",
      "[1.50280959 0.75795523 1.64089176]\n",
      "[[1.91874195 1.95283054 1.27498952]\n",
      " [1.15119496 1.64071022 1.0586225 ]\n",
      " [1.62107961 1.49377632 1.57355772]]\n"
     ]
    }
   ],
   "source": [
    "tmp1 = m1.dot(m2) # [m1_11 * m2_11 + m1_23 * m2_32 +  m1_13 * m2_31, ..., m1_31 * m2_13 + m1_23 * m2_32 +  m1_33 * m2_33]\n",
    "tmp2 = m1.dot(np.array([0,1,2])) \n",
    "tmp3 = m1 + 1\n",
    "\n",
    "print(tmp1)\n",
    "print(tmp2)\n",
    "print(tmp3)"
   ]
  },
  {
   "cell_type": "code",
   "execution_count": 17,
   "metadata": {},
   "outputs": [
    {
     "name": "stdout",
     "output_type": "stream",
     "text": [
      "[[1.91874195 1.95283054 1.27498952]\n",
      " [1.15119496 1.64071022 1.0586225 ]\n",
      " [1.62107961 1.49377632 1.57355772]]\n",
      "inverse matrix\n",
      "[[ 1.94344365 -2.35781929 -0.69078554]\n",
      " [-0.28881332  2.04461345 -0.0705068 ]\n",
      " [-1.85582727  0.79296601  2.55222336]]\n",
      "[[ 1.00000000e+00 -1.28615691e-16  1.44632206e-16]\n",
      " [-3.20462908e-17  1.00000000e+00  2.90484605e-17]\n",
      " [-1.05952891e-16 -1.08474000e-16  1.00000000e+00]]\n",
      "eigen values\n",
      "[1.41475334 0.28267078 0.43558577]\n",
      "[[-0.73205556 -0.45322235  0.01172907]\n",
      " [-0.19248553  0.04563043 -0.28275253]\n",
      " [-0.65348602  0.89022883  0.95912118]]\n",
      "singular value decomposition\n",
      "[[-0.77835511 -0.18454495 -0.60008873]\n",
      " [-0.32837102 -0.69499591  0.63965081]\n",
      " [-0.53510354  0.69492723  0.4803544 ]]\n",
      "[1.72473525 0.44297391 0.22799994]\n",
      "[[-0.63609614 -0.70518223 -0.31320876]\n",
      " [ 0.35436866 -0.62755938  0.69324748]\n",
      " [-0.6854229   0.32998068  0.64908258]]\n"
     ]
    }
   ],
   "source": [
    "#more advanced operations\n",
    "# tranpose matrix\n",
    "tmp1 = m1.T\n",
    "print(tmp3)\n",
    "\n",
    "# inverse matrix\n",
    "m1_inv = np.linalg.inv(m1)\n",
    "print(\"inverse matrix\")\n",
    "print(m1_inv)\n",
    "print(m1.dot(m1_inv))\n",
    "\n",
    "# calculate eigenvalues\n",
    "tmp2, tmp3 = np.linalg.eig(m1)\n",
    "print(\"eigen values\")\n",
    "print(tmp2)\n",
    "print(tmp3)\n",
    "\n",
    "# singular value decomposition\n",
    "u, s, vh = np.linalg.svd(m1, full_matrices=True)\n",
    "print(\"singular value decomposition\")\n",
    "print(u)\n",
    "print(s)\n",
    "print(vh)"
   ]
  },
  {
   "cell_type": "markdown",
   "metadata": {},
   "source": [
    "## 3. Statistical analysis using pandas"
   ]
  },
  {
   "cell_type": "markdown",
   "metadata": {},
   "source": [
    "### 3a. Load libraries, create Pandas dataframes"
   ]
  },
  {
   "cell_type": "code",
   "execution_count": 18,
   "metadata": {},
   "outputs": [],
   "source": [
    "# load libraries\n",
    "import pandas as pd"
   ]
  },
  {
   "cell_type": "code",
   "execution_count": 19,
   "metadata": {},
   "outputs": [],
   "source": [
    "# Create the same matrices as earlier\n",
    "m1=player1.getTrainingRawData()\n",
    "m2=player2.getTrainingRawData()\n",
    "\n",
    "columns = np.array(['col1', 'col2', 'col3'])\n",
    "\n",
    "# Create pandas dataframe\n",
    "df_1=pd.DataFrame(data=m1, columns=columns)\n",
    "df_2=pd.DataFrame(data=m2, columns=columns)"
   ]
  },
  {
   "cell_type": "code",
   "execution_count": 20,
   "metadata": {},
   "outputs": [
    {
     "name": "stdout",
     "output_type": "stream",
     "text": [
      "[[0.91874195 0.95283054 0.27498952]\n",
      " [0.15119496 0.64071022 0.0586225 ]\n",
      " [0.62107961 0.49377632 0.57355772]]\n",
      "[0.91874195 0.95283054 0.27498952]\n",
      "       col1      col2      col3\n",
      "0  0.918742  0.952831  0.274990\n",
      "1  0.151195  0.640710  0.058623\n",
      "2  0.621080  0.493776  0.573558\n",
      "       col1      col2      col3\n",
      "0  0.477956  0.641723  0.258354\n",
      "1  0.728198  0.297567  0.862168\n",
      "2  0.963815  0.917844  0.258435\n"
     ]
    }
   ],
   "source": [
    "data = player1.getTrainingRawData()\n",
    "columns = np.array(['col1', 'col2', 'col3'])\n",
    "print(data)\n",
    "print(data[0])\n",
    "\n",
    "df_1=pd.DataFrame(data=data, columns=columns)\n",
    "\n",
    "print(df_1)\n",
    "print(df_2)"
   ]
  },
  {
   "cell_type": "markdown",
   "metadata": {},
   "source": [
    "### 3b. Simple operations"
   ]
  },
  {
   "cell_type": "code",
   "execution_count": 21,
   "metadata": {},
   "outputs": [
    {
     "name": "stdout",
     "output_type": "stream",
     "text": [
      "0    0.918742\n",
      "1    0.151195\n",
      "2    0.621080\n",
      "Name: col1, dtype: float64\n",
      "col1    0.918742\n",
      "col2    0.952831\n",
      "col3    0.274990\n",
      "Name: 0, dtype: float64\n",
      "       col1      col2\n",
      "0  0.918742  0.952831\n",
      "1  0.151195  0.640710\n",
      "2  0.621080  0.493776\n",
      "       col1     col2\n",
      "1  0.151195  0.64071\n",
      "       col1      col2      col3\n",
      "0  0.440786  0.311107  0.016635\n",
      "1 -0.577003  0.343144 -0.803545\n",
      "2 -0.342735 -0.424067  0.315123\n",
      "       col1      col2      col3\n",
      "0  1.396698  1.594554  0.533344\n",
      "1  0.879393  0.938277  0.920790\n",
      "2  1.584894  1.411620  0.831993\n",
      "       col1      col2      col3\n",
      "0  0.439118  0.611453  0.071045\n",
      "1  0.110100  0.190654  0.050542\n",
      "2  0.598606  0.453209  0.148227\n",
      "       col1      col2      col3\n",
      "0  1.922231  1.484800  1.064390\n",
      "1  0.207629  2.153166  0.067994\n",
      "2  0.644397  0.537974  2.219350\n"
     ]
    }
   ],
   "source": [
    "print(df_1['col1'])\n",
    "print(df_1.iloc[0])\n",
    "print(df_1[['col1', 'col2']])\n",
    "print(df_1[['col1', 'col2']].iloc[1:2])\n",
    "\n",
    "tmp1 = df_1 - df_2\n",
    "tmp2 = df_1 + df_2\n",
    "tmp3 = df_1 * df_2\n",
    "tmp4 = df_1 / df_2\n",
    "\n",
    "print(tmp1)\n",
    "print(tmp2)\n",
    "print(tmp3)\n",
    "print(tmp4)"
   ]
  },
  {
   "cell_type": "code",
   "execution_count": 22,
   "metadata": {},
   "outputs": [
    {
     "name": "stdout",
     "output_type": "stream",
     "text": [
      "       col1      col2      col3      col4\n",
      "0  0.918742  0.952831  0.274990  0.837764\n",
      "1  0.151195  0.640710  0.058623  0.869395\n",
      "2  0.621080  0.493776  0.573558  0.745112\n",
      "[0.22185515 0.41283858 0.26600653]\n",
      "       col2      col3\n",
      "0  0.952831  0.274990\n",
      "1  0.640710  0.058623\n",
      "2  0.493776  0.573558\n",
      "3  0.412839  0.266007\n",
      "       col1      col2      col3\n",
      "0  0.918742  0.952831  0.274990\n",
      "2  0.621080  0.493776  0.573558\n",
      "3  0.221855  0.412839  0.266007\n"
     ]
    }
   ],
   "source": [
    "## 3c. Simple operations\n",
    "\n",
    "row_count=df_1.col1.count()\n",
    "col_count=len(df_1.columns)\n",
    "# add column\n",
    "tmp1 = df_1.assign(col4=pd.Series(np.random.rand(row_count)).values)\n",
    "# add record\n",
    "tmp2 = df_1.loc[df_1.index.max()+1] = np.random.rand(col_count)\n",
    "# remove column\n",
    "tmp3 = df_1.drop(['col1'], axis=1)\n",
    "# remove record\n",
    "tmp4 = df_1.drop(1)\n",
    "\n",
    "print(tmp1)\n",
    "print(tmp2)\n",
    "print(tmp3)\n",
    "print(tmp4)"
   ]
  },
  {
   "cell_type": "markdown",
   "metadata": {},
   "source": [
    "### 3c. Statistical operations"
   ]
  },
  {
   "cell_type": "code",
   "execution_count": 23,
   "metadata": {},
   "outputs": [
    {
     "name": "stdout",
     "output_type": "stream",
     "text": [
      "statistics all\n",
      "sum all:5.586203610989052\n",
      "mean all:0.4655169675824209\n",
      "median all:0.4533074503130595\n",
      "std all:0.2880757245855384\n",
      "statistics col1\n",
      "sum col1:1.9128716689298828\n",
      "mean col1:0.4782179172324707\n",
      "median col1:0.4214673821332439\n",
      "std col1:0.35922915891128215\n"
     ]
    }
   ],
   "source": [
    "tmp1=df_1.stack().sum() \n",
    "tmp2=df_1.stack().mean() \n",
    "tmp3=df_1.stack().median() \n",
    "tmp4=df_1.stack().std() \n",
    "\n",
    "print(\"statistics all\")\n",
    "print(\"sum all:\" + str(tmp1))\n",
    "print(\"mean all:\" + str(tmp2))\n",
    "print(\"median all:\" + str(tmp3))\n",
    "print(\"std all:\" + str(tmp4))\n",
    "\n",
    "tmp1=df_1['col1'].sum()\n",
    "tmp2=df_1['col1'].mean()\n",
    "tmp3=df_1['col1'].median()\n",
    "tmp4=df_1['col1'].std()\n",
    "\n",
    "print(\"statistics col1\")\n",
    "print(\"sum col1:\" + str(tmp1))\n",
    "print(\"mean col1:\" + str(tmp2))\n",
    "print(\"median col1:\" + str(tmp3))\n",
    "print(\"std col1:\" + str(tmp4))"
   ]
  },
  {
   "cell_type": "code",
   "execution_count": 24,
   "metadata": {},
   "outputs": [
    {
     "name": "stdout",
     "output_type": "stream",
     "text": [
      "multiple statistics\n",
      "statistics all:count    12.000000\n",
      "mean      0.465517\n",
      "std       0.288076\n",
      "min       0.058623\n",
      "25%       0.254969\n",
      "50%       0.453307\n",
      "75%       0.625987\n",
      "max       0.952831\n",
      "dtype: float64\n",
      "statistics col1:count    4.000000\n",
      "mean     0.478218\n",
      "std      0.359229\n",
      "min      0.151195\n",
      "25%      0.204190\n",
      "50%      0.421467\n",
      "75%      0.695495\n",
      "max      0.918742\n",
      "Name: col1, dtype: float64\n"
     ]
    }
   ],
   "source": [
    "print(\"multiple statistics\")\n",
    "tmp1=df_1.stack().describe()\n",
    "tmp2=df_1['col1'].describe()\n",
    "\n",
    "print(\"statistics all:\" + str(tmp1))\n",
    "print(\"statistics col1:\" + str(tmp2))"
   ]
  },
  {
   "cell_type": "code",
   "execution_count": 25,
   "metadata": {},
   "outputs": [
    {
     "name": "stdout",
     "output_type": "stream",
     "text": [
      "correlation:\n",
      "           col1      col2      col3\n",
      "col1  0.129046  0.058308  0.038571\n",
      "col2  0.058308  0.056651 -0.013558\n",
      "col3  0.038571 -0.013558  0.044899\n",
      "\n",
      "\n",
      "covariance:\n",
      "           col1      col2      col3\n",
      "col1  1.000000  0.681949  0.506725\n",
      "col2  0.681949  1.000000 -0.268836\n",
      "col3  0.506725 -0.268836  1.000000\n"
     ]
    }
   ],
   "source": [
    "tmp1=df_1.cov()\n",
    "tmp2=df_1.corr()\n",
    "\n",
    "print(\"correlation:\\n \" + str(tmp1))\n",
    "print(\"\\n\")\n",
    "print(\"covariance:\\n \" + str(tmp2))"
   ]
  },
  {
   "cell_type": "markdown",
   "metadata": {},
   "source": [
    "## 4. Write/read results to SQLDB "
   ]
  },
  {
   "cell_type": "markdown",
   "metadata": {},
   "source": [
    "### 4a. Load necessary libraries"
   ]
  },
  {
   "cell_type": "code",
   "execution_count": 26,
   "metadata": {},
   "outputs": [],
   "source": [
    "import pyodbc"
   ]
  },
  {
   "cell_type": "markdown",
   "metadata": {},
   "source": [
    "### 4b. Create tables in SQLDB"
   ]
  },
  {
   "cell_type": "code",
   "execution_count": 27,
   "metadata": {},
   "outputs": [],
   "source": [
    "# Go to your SQLDB using SQL Server Management Studio (SMSS) and execute to following script in SQLDB:\n",
    "script = \"\"\"\n",
    "\n",
    "USE [Master]\n",
    "GO\n",
    "\n",
    "CREATE DATABASE pythontest\n",
    "GO\n",
    "\n",
    "USE [pythontest]\n",
    "\n",
    "CREATE TABLE [dbo].[trainingsdata]\n",
    "(  \n",
    " [col1] [float] NOT NULL,\n",
    " [col2] [float] NOT NULL,\n",
    " [col3] [float] NOT NULL\n",
    ")\n",
    "GO\n",
    "\n",
    "\"\"\""
   ]
  },
  {
   "cell_type": "markdown",
   "metadata": {},
   "source": [
    "### 4c. Create connection"
   ]
  },
  {
   "cell_type": "code",
   "execution_count": 28,
   "metadata": {},
   "outputs": [],
   "source": [
    "server  = 'demo-dsvmwin-vm'\n",
    "database = 'pythontest'\n",
    "driver= '{ODBC Driver 17 for SQL Server}'"
   ]
  },
  {
   "cell_type": "code",
   "execution_count": 36,
   "metadata": {},
   "outputs": [],
   "source": [
    "# Make connection to database\n",
    "cnxn = pyodbc.connect('DRIVER='+driver+';SERVER='+server+';PORT=1433;DATABASE='+database + ';Trusted_Connection=yes;')\n",
    "cursor = cnxn.cursor()"
   ]
  },
  {
   "cell_type": "markdown",
   "metadata": {},
   "source": [
    "### 4d. Write/read results to SQLDB"
   ]
  },
  {
   "cell_type": "code",
   "execution_count": 37,
   "metadata": {},
   "outputs": [],
   "source": [
    "#Write results, use pandas dataframe\n",
    "for index,row in df_1.iterrows():\n",
    "    cursor.execute(\"INSERT INTO dbo.trainingsdata([col1],[col2],[col3]) VALUES (?,?,?)\", row['col1'], row['col2'], row['col3'])\n",
    "    cnxn.commit()"
   ]
  },
  {
   "cell_type": "code",
   "execution_count": 38,
   "metadata": {},
   "outputs": [
    {
     "name": "stdout",
     "output_type": "stream",
     "text": [
      "        col1      col2      col3\n",
      "0   0.582270  0.031003  0.802630\n",
      "1   0.104255  0.641051  0.133616\n",
      "2   0.172017  0.497840  0.225676\n",
      "3   0.348590  0.854295  0.151956\n",
      "4   0.147089  0.216612  0.792685\n",
      "5   0.393516  0.940553  0.696722\n",
      "6   0.918742  0.952831  0.274990\n",
      "7   0.151195  0.640710  0.058623\n",
      "8   0.621080  0.493776  0.573558\n",
      "9   0.221855  0.412839  0.266007\n",
      "10  0.918742  0.952831  0.274990\n",
      "11  0.151195  0.640710  0.058623\n",
      "12  0.621080  0.493776  0.573558\n",
      "13  0.221855  0.412839  0.266007\n",
      "14  0.918742  0.952831  0.274990\n",
      "15  0.151195  0.640710  0.058623\n",
      "16  0.621080  0.493776  0.573558\n",
      "17  0.221855  0.412839  0.266007\n"
     ]
    }
   ],
   "source": [
    "#Read results, use pandas dataframe\n",
    "sql = \"SELECT [col1], [col2], [col3] FROM dbo.trainingsdata\"\n",
    "df_1read = pd.read_sql(sql,cnxn)\n",
    "print(df_1read)\n",
    "cursor.close()"
   ]
  },
  {
   "cell_type": "code",
   "execution_count": null,
   "metadata": {},
   "outputs": [],
   "source": []
  }
 ],
 "metadata": {
  "kernelspec": {
   "display_name": "Python 3",
   "language": "python",
   "name": "python3"
  },
  "language_info": {
   "codemirror_mode": {
    "name": "ipython",
    "version": 3
   },
   "file_extension": ".py",
   "mimetype": "text/x-python",
   "name": "python",
   "nbconvert_exporter": "python",
   "pygments_lexer": "ipython3",
   "version": "3.6.5"
  }
 },
 "nbformat": 4,
 "nbformat_minor": 2
}
