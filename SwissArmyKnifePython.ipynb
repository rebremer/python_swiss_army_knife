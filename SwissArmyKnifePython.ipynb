{
 "cells": [
  {
   "cell_type": "markdown",
   "metadata": {},
   "source": [
    "# This notebook contains the following Python tutorials\n",
    "1. Object-orientied programming\n",
    "2. Matrix calculus using numpy\n",
    "3. Statistical analysis using pandas\n",
    "4. Write/read results to SQLDB \n",
    "\n",
    "Further explanation of notebook can be found in following blog:"
   ]
  },
  {
   "cell_type": "markdown",
   "metadata": {},
   "source": [
    "## 1: Object-orientied programming"
   ]
  },
  {
   "cell_type": "markdown",
   "metadata": {},
   "source": [
    "### 1a. Load necessary libraries"
   ]
  },
  {
   "cell_type": "code",
   "execution_count": 27,
   "metadata": {},
   "outputs": [],
   "source": [
    "# Load necessary libraries\n",
    "import numpy as np\n",
    "from datetime import date"
   ]
  },
  {
   "cell_type": "markdown",
   "metadata": {},
   "source": [
    "### 1b. Create 3 classes"
   ]
  },
  {
   "cell_type": "code",
   "execution_count": 39,
   "metadata": {},
   "outputs": [],
   "source": [
    "# Class 1: Player\n",
    "class Player(object):\n",
    "    _posList = {'goalkeeper', 'defender', 'midfielder', 'striker'}\n",
    "    \n",
    "    def __init__(self,name):\n",
    "        self._playerName=name\n",
    "        self._trainingList=[]\n",
    "        self._rawData = np.empty((0,3), int)\n",
    "        \n",
    "    def setPosition(self, pos):\n",
    "        if pos in self._posList:\n",
    "            self._position=pos\n",
    "            print(self._playerName + \" is \" + pos)\n",
    "        else:\n",
    "            raise ValueError(\"Value {} not in list.\".format(pos))        \n",
    "\n",
    "    def setTraining(self, t, rawData):\n",
    "        self._trainingList.append(t)\n",
    "        self._rawData = np.append(self._rawData, rawData, axis=0)\n",
    "        \n",
    "    def getTrainingRawData(self):\n",
    "        return self._rawData\n",
    "\n",
    "    def getTrainingFilter(self, stage, tt, date):\n",
    "        for index, training in enumerate(self._trainingList):\n",
    "            if training.getStage() == stage and training.getTrainingType() == tt and training.getDate() == date:\n",
    "                return self._rawData[index]\n",
    "\n",
    "    def setAge(self, age):\n",
    "        self._age = age\n",
    "            \n",
    "    def getName(self):\n",
    "        return self._playerName"
   ]
  },
  {
   "cell_type": "code",
   "execution_count": 40,
   "metadata": {},
   "outputs": [],
   "source": [
    "# Class 2: FirstTeamPlayer\n",
    "class FirstTeamPlayer(Player):\n",
    "    def __init__(self,ftp):\n",
    "        Player.__init__(self, ftp)\n",
    "\n",
    "    def setPosition(self,pos1, pos2):\n",
    "        if pos1 in self._posList and pos2 in self._posList:\n",
    "            self._posComp=pos1\n",
    "            self._posCL=pos2\n",
    "            print(self._playerName + \" is \" + pos1)\n",
    "            print(self._playerName + \" is \" + pos2 + \" in the CL\")\n",
    "        else:\n",
    "            raise ValueError(\"Pos {},{} unknown\".format(pos1, pos2))   \n",
    "\n",
    "    def setNumber(self,number):\n",
    "        self._number=number\n",
    "        print(self._playerName + \" has number \" + str(number))"
   ]
  },
  {
   "cell_type": "code",
   "execution_count": 41,
   "metadata": {},
   "outputs": [],
   "source": [
    "# Class 3: Training\n",
    "class Training(object):\n",
    "    _stageList = {'ArenA', 'Toekomst', 'Pool', 'Gym'}\n",
    "    _trainingTypeList = {'strength', 'technique', 'friendly game'}\n",
    "\n",
    "    def __init__(self, stage, tt, date):\n",
    "        if stage in self._stageList:\n",
    "            self._stage = stage\n",
    "        else:\n",
    "            raise ValueError(\"Value {} not in list.\".format(stage))\n",
    "        if tt in self._trainingTypeList:\n",
    "            self._trainingType = tt\n",
    "        else:\n",
    "            raise ValueError(\"Value {} not in list.\".format(tt))\n",
    "\n",
    "        #todo: Valid date test (no static type checking in Python)\n",
    "        self._date = date\n",
    "\n",
    "    def getStage(self):\n",
    "        return self._stage\n",
    "\n",
    "    def getTrainingType(self):\n",
    "        return self._trainingType\n",
    "\n",
    "    def getDate(self):\n",
    "        return self._date"
   ]
  },
  {
   "cell_type": "markdown",
   "metadata": {},
   "source": [
    "### 1c. Inheritance"
   ]
  },
  {
   "cell_type": "code",
   "execution_count": 42,
   "metadata": {},
   "outputs": [],
   "source": [
    "# Construct two players, FirstTeamPlayer class inherits from Player class\n",
    "player1 = Player(\"Janssen\")\n",
    "player2 = FirstTeamPlayer(\"Tadic\")"
   ]
  },
  {
   "cell_type": "code",
   "execution_count": 43,
   "metadata": {},
   "outputs": [],
   "source": [
    "# Set age of players. Notice that setAge method is inherited and is not present in class FirstTeamPlayer\n",
    "player1.setAge(20)\n",
    "player2.setAge(30)"
   ]
  },
  {
   "cell_type": "markdown",
   "metadata": {},
   "source": [
    "### 1d. Polymorphism"
   ]
  },
  {
   "cell_type": "code",
   "execution_count": 44,
   "metadata": {},
   "outputs": [
    {
     "name": "stdout",
     "output_type": "stream",
     "text": [
      "Janssen is goalkeeper\n",
      "Tadic is midfielder\n",
      "Tadic is striker in the CL\n"
     ]
    }
   ],
   "source": [
    "# Set position of player. Notice that setPosition method is redefined (overloaded) in class FirstTeamPlayer\n",
    "player1.setPosition(\"goalkeeper\")\n",
    "player2.setPosition(\"midfielder\", \"striker\")"
   ]
  },
  {
   "cell_type": "code",
   "execution_count": 45,
   "metadata": {},
   "outputs": [
    {
     "name": "stdout",
     "output_type": "stream",
     "text": [
      "Tadic has number 10\n"
     ]
    }
   ],
   "source": [
    "# Set Numer of Player. Notice that setNumber method is only present in class  \n",
    "player2.setNumber(10)\n",
    "#player.setNumber(99) will result in failure"
   ]
  },
  {
   "cell_type": "markdown",
   "metadata": {},
   "source": [
    "### 1e. Data encapsulation"
   ]
  },
  {
   "cell_type": "code",
   "execution_count": 46,
   "metadata": {},
   "outputs": [],
   "source": [
    "# Create new traning object and add traningsdata to player object. Notice that a numpy array is used as attribute\n",
    "training1=Training('Toekomst', 'strength', date(2019,4,19))\n",
    "player1.setTraining(training1, rawData=np.random.rand(1,3))\n",
    "player2.setTraining(training1, rawData=np.random.rand(1,3))"
   ]
  },
  {
   "cell_type": "code",
   "execution_count": 47,
   "metadata": {},
   "outputs": [],
   "source": [
    "# Add two new trainings objects\n",
    "training2=Training('ArenA', 'friendly game', date(2019,4,20))\n",
    "player1.setTraining(training2, rawData=np.random.rand(1,3))\n",
    "player2.setTraining(training2, rawData=np.random.rand(1,3))\n",
    "\n",
    "training3=Training('Gym', 'strength', date(2019,4,20))\n",
    "player1.setTraining(training3, rawData=np.random.rand(1,3))\n",
    "player2.setTraining(training3, rawData=np.random.rand(1,3))"
   ]
  },
  {
   "cell_type": "code",
   "execution_count": 48,
   "metadata": {},
   "outputs": [
    {
     "name": "stdout",
     "output_type": "stream",
     "text": [
      "All trainingdata from player: Janssen\n",
      "[[0.16602664 0.00540508 0.95183772]\n",
      " [0.47523239 0.65681941 0.23890372]\n",
      " [0.53569236 0.97794    0.5954682 ]]\n",
      "All trainingdata from player: Tadic\n",
      "[[0.49086482 0.46700214 0.9096877 ]\n",
      " [0.69306806 0.36328726 0.8852503 ]\n",
      " [0.3731209  0.09477548 0.60024675]]\n",
      "Trainingdata from player Janssen for first training \n",
      "[0.47523239 0.65681941 0.23890372]\n",
      "Trainingdata from player Tadic for last training \n",
      "[0.3731209  0.09477548 0.60024675]\n"
     ]
    }
   ],
   "source": [
    "# Retrieve data using get methods. Notice that if an attribute does not have get method, its data cannot be retrieved\n",
    "print (\"All trainingdata from player: \" + player1.getName())\n",
    "print (player1.getTrainingRawData())\n",
    "print (\"All trainingdata from player: \" + player2.getName())\n",
    "print (player2.getTrainingRawData())\n",
    "print (\"Trainingdata from player \" + player1.getName() + \" for first training \")\n",
    "print (player1.getTrainingFilter('ArenA', 'friendly game', date(2019,4,20)))\n",
    "print (\"Trainingdata from player \" + player2.getName() + \" for last training \")\n",
    "print (player2.getTrainingFilter('Gym', 'strength', date(2019,4,20)))"
   ]
  },
  {
   "cell_type": "code",
   "execution_count": 49,
   "metadata": {},
   "outputs": [
    {
     "data": {
      "text/plain": [
       "20"
      ]
     },
     "execution_count": 49,
     "metadata": {},
     "output_type": "execute_result"
    }
   ],
   "source": [
    "# this will not work\n",
    "#player.getAge()\n",
    "# This still works and differs from Java, C#. See explanation: https://stackoverflow.com/questions/797771/python-protected-attributes\n",
    "player1._age"
   ]
  },
  {
   "cell_type": "markdown",
   "metadata": {},
   "source": [
    "## 2: Matrix calculus using numpy"
   ]
  },
  {
   "cell_type": "markdown",
   "metadata": {},
   "source": [
    "## 2a. Create numpy matrix data"
   ]
  },
  {
   "cell_type": "code",
   "execution_count": 50,
   "metadata": {},
   "outputs": [
    {
     "name": "stdout",
     "output_type": "stream",
     "text": [
      "[[0.16602664 0.00540508 0.95183772]\n",
      " [0.47523239 0.65681941 0.23890372]\n",
      " [0.53569236 0.97794    0.5954682 ]]\n",
      "[[0.49086482 0.46700214 0.9096877 ]\n",
      " [0.69306806 0.36328726 0.8852503 ]\n",
      " [0.3731209  0.09477548 0.60024675]]\n"
     ]
    }
   ],
   "source": [
    "# Take the matrix data from player objecs that were created earlier\n",
    "m1=player1.getTrainingRawData()\n",
    "m2=player2.getTrainingRawData()\n",
    "print(m1)\n",
    "print(m2)"
   ]
  },
  {
   "cell_type": "markdown",
   "metadata": {},
   "source": [
    "## 2b. Simple operations"
   ]
  },
  {
   "cell_type": "code",
   "execution_count": 51,
   "metadata": {},
   "outputs": [
    {
     "name": "stdout",
     "output_type": "stream",
     "text": [
      "(3, 3)\n",
      "0.005405075953237359\n",
      "0.005405075953237359\n",
      "[0.16602664 0.00540508 0.95183772]\n",
      "[[0.16602664 0.00540508 0.95183772]]\n",
      "[[0.16602664 0.00540508 0.95183772]\n",
      " [0.47523239 0.65681941 0.23890372]]\n",
      "[0.16602664 0.47523239 0.53569236]\n",
      "[[0.16602664 0.00540508 0.95183772]]\n",
      "[[0.65681941 0.23890372]\n",
      " [0.97794    0.5954682 ]]\n"
     ]
    }
   ],
   "source": [
    "#Access values\n",
    "print(m1.shape)\n",
    "\n",
    "print(m1[0][1])\n",
    "print(m1[0,1])\n",
    "print(m1[0])\n",
    "\n",
    "print(m1[0:1])\n",
    "print(m1[0:2])\n",
    "\n",
    "print(m1[:,0])\n",
    "print(m1[0:1,0:])\n",
    "print(m1[1:3,1:3])"
   ]
  },
  {
   "cell_type": "code",
   "execution_count": 52,
   "metadata": {},
   "outputs": [
    {
     "name": "stdout",
     "output_type": "stream",
     "text": [
      "[[-0.32483818 -0.46159707  0.04215002]\n",
      " [-0.21783567  0.29353215 -0.64634658]\n",
      " [ 0.16257146  0.88316451 -0.00477855]]\n",
      "[[0.65689146 0.47240722 1.86152542]\n",
      " [1.16830045 1.02010668 1.12415402]\n",
      " [0.90881326 1.07271548 1.19571495]]\n",
      "[[0.08149664 0.00252418 0.86587506]\n",
      " [0.32936839 0.23861413 0.21148959]\n",
      " [0.19987802 0.09268474 0.35742785]]\n",
      "[[ 0.33823292  0.01157399  1.0463346 ]\n",
      " [ 0.68569368  1.80798911  0.26987138]\n",
      " [ 1.4357072  10.31849118  0.99203902]]\n"
     ]
    }
   ],
   "source": [
    "#Arithmetic\n",
    "tmp1=m1-m2\n",
    "tmp2=m1+m2\n",
    "tmp3=m1*m2 # [m2_11*m1_11,  ..,  m1_33*m2_33]\n",
    "tmp4=m1/m2 # [m2_11/m1_11,  ..,  m1_33/m2_33]\n",
    "\n",
    "print(tmp1)\n",
    "print(tmp2)\n",
    "print(tmp3)\n",
    "print(tmp4)"
   ]
  },
  {
   "cell_type": "markdown",
   "metadata": {},
   "source": [
    "### 2c. Matrix operations"
   ]
  },
  {
   "cell_type": "code",
   "execution_count": 53,
   "metadata": {},
   "outputs": [
    {
     "name": "stdout",
     "output_type": "stream",
     "text": [
      "[[0.44039327 0.16970927 0.72715474]\n",
      " [0.77763539 0.48319089 1.15716382]\n",
      " [1.16291314 0.66187841 1.71046228]]\n",
      "[1.90908051 1.13462685 2.1688764 ]\n",
      "[[1.16602664 1.00540508 1.95183772]\n",
      " [1.47523239 1.65681941 1.23890372]\n",
      " [1.53569236 1.97794    1.5954682 ]]\n"
     ]
    }
   ],
   "source": [
    "tmp1 = m1.dot(m2) # [m1_11 * m2_11 + m1_23 * m2_32 +  m1_13 * m2_31, ..., m1_31 * m2_13 + m1_23 * m2_32 +  m1_33 * m2_33]\n",
    "tmp2 = m1.dot(np.array([0,1,2])) \n",
    "tmp3 = m1 + 1\n",
    "\n",
    "print(tmp1)\n",
    "print(tmp2)\n",
    "print(tmp3)"
   ]
  },
  {
   "cell_type": "code",
   "execution_count": 54,
   "metadata": {},
   "outputs": [
    {
     "name": "stdout",
     "output_type": "stream",
     "text": [
      "[[1.16602664 1.00540508 1.95183772]\n",
      " [1.47523239 1.65681941 1.23890372]\n",
      " [1.53569236 1.97794    1.5954682 ]]\n",
      "inverse matrix\n",
      "[[ 1.18615339  6.98685882 -4.69917969]\n",
      " [-1.16751395 -3.09587315  3.10830941]\n",
      " [ 0.85033133 -1.20111995  0.80201526]]\n",
      "[[ 1.00000000e+00  8.01727023e-17 -1.35065106e-16]\n",
      " [-2.92855762e-16  1.00000000e+00 -2.93091080e-16]\n",
      " [-1.32973128e-16 -7.00122415e-17  1.00000000e+00]]\n",
      "eigen values\n",
      "[ 1.56632296+0.j         -0.07400435+0.28157877j -0.07400435-0.28157877j]\n",
      "[[ 0.50170359+0.j          0.83317346+0.j          0.83317346-0.j        ]\n",
      " [ 0.45534561+0.j         -0.38540009-0.22948836j -0.38540009+0.22948836j]\n",
      " [ 0.73549567+0.j         -0.20791815+0.24777791j -0.20791815-0.24777791j]]\n",
      "singular value decomposition\n",
      "[[-0.39864495  0.90454617 -0.15125615]\n",
      " [-0.49215348 -0.35016653 -0.7969745 ]\n",
      " [-0.77386507 -0.24326862  0.58476767]]\n",
      "[1.61223585 0.79741315 0.10327066]\n",
      "[[-0.44325188 -0.6712444  -0.5941033 ]\n",
      " [-0.18378033 -0.58063897  0.79314764]\n",
      " [-0.87735544  0.46074869  0.13400779]]\n"
     ]
    }
   ],
   "source": [
    "#more advanced operations\n",
    "# tranpose matrix\n",
    "tmp1 = m1.T\n",
    "print(tmp3)\n",
    "\n",
    "# inverse matrix\n",
    "m1_inv = np.linalg.inv(m1)\n",
    "print(\"inverse matrix\")\n",
    "print(m1_inv)\n",
    "print(m1.dot(m1_inv))\n",
    "\n",
    "# calculate eigenvalues\n",
    "tmp2, tmp3 = np.linalg.eig(m1)\n",
    "print(\"eigen values\")\n",
    "print(tmp2)\n",
    "print(tmp3)\n",
    "\n",
    "# singular value decomposition\n",
    "u, s, vh = np.linalg.svd(m1, full_matrices=True)\n",
    "print(\"singular value decomposition\")\n",
    "print(u)\n",
    "print(s)\n",
    "print(vh)"
   ]
  },
  {
   "cell_type": "markdown",
   "metadata": {},
   "source": [
    "## 3. Statistical analysis using pandas"
   ]
  },
  {
   "cell_type": "markdown",
   "metadata": {},
   "source": [
    "### 3a. Load libraries, create Pandas dataframes"
   ]
  },
  {
   "cell_type": "code",
   "execution_count": 55,
   "metadata": {},
   "outputs": [],
   "source": [
    "# load libraries\n",
    "import pandas as pd"
   ]
  },
  {
   "cell_type": "code",
   "execution_count": 56,
   "metadata": {},
   "outputs": [],
   "source": [
    "# Create the same matrices as earlier\n",
    "m1=player1.getTrainingRawData()\n",
    "m2=player2.getTrainingRawData()\n",
    "\n",
    "columns = np.array(['col1', 'col2', 'col3'])\n",
    "\n",
    "# Create pandas dataframe\n",
    "df_1=pd.DataFrame(data=m1, columns=columns)\n",
    "df_2=pd.DataFrame(data=m2, columns=columns)"
   ]
  },
  {
   "cell_type": "code",
   "execution_count": 57,
   "metadata": {},
   "outputs": [
    {
     "name": "stdout",
     "output_type": "stream",
     "text": [
      "[[0.16602664 0.00540508 0.95183772]\n",
      " [0.47523239 0.65681941 0.23890372]\n",
      " [0.53569236 0.97794    0.5954682 ]]\n",
      "[0.16602664 0.00540508 0.95183772]\n",
      "       col1      col2      col3\n",
      "0  0.166027  0.005405  0.951838\n",
      "1  0.475232  0.656819  0.238904\n",
      "2  0.535692  0.977940  0.595468\n",
      "       col1      col2      col3\n",
      "0  0.490865  0.467002  0.909688\n",
      "1  0.693068  0.363287  0.885250\n",
      "2  0.373121  0.094775  0.600247\n"
     ]
    }
   ],
   "source": [
    "data = player1.getTrainingRawData()\n",
    "columns = np.array(['col1', 'col2', 'col3'])\n",
    "print(data)\n",
    "print(data[0])\n",
    "\n",
    "df_1=pd.DataFrame(data=data, columns=columns)\n",
    "\n",
    "print(df_1)\n",
    "print(df_2)"
   ]
  },
  {
   "cell_type": "markdown",
   "metadata": {},
   "source": [
    "### 3b. Simple operations"
   ]
  },
  {
   "cell_type": "code",
   "execution_count": 58,
   "metadata": {},
   "outputs": [
    {
     "name": "stdout",
     "output_type": "stream",
     "text": [
      "0    0.166027\n",
      "1    0.475232\n",
      "2    0.535692\n",
      "Name: col1, dtype: float64\n",
      "col1    0.166027\n",
      "col2    0.005405\n",
      "col3    0.951838\n",
      "Name: 0, dtype: float64\n",
      "       col1      col2\n",
      "0  0.166027  0.005405\n",
      "1  0.475232  0.656819\n",
      "2  0.535692  0.977940\n",
      "       col1      col2\n",
      "1  0.475232  0.656819\n",
      "       col1      col2      col3\n",
      "0 -0.324838 -0.461597  0.042150\n",
      "1 -0.217836  0.293532 -0.646347\n",
      "2  0.162571  0.883165 -0.004779\n",
      "       col1      col2      col3\n",
      "0  0.656891  0.472407  1.861525\n",
      "1  1.168300  1.020107  1.124154\n",
      "2  0.908813  1.072715  1.195715\n",
      "       col1      col2      col3\n",
      "0  0.081497  0.002524  0.865875\n",
      "1  0.329368  0.238614  0.211490\n",
      "2  0.199878  0.092685  0.357428\n",
      "       col1       col2      col3\n",
      "0  0.338233   0.011574  1.046335\n",
      "1  0.685694   1.807989  0.269871\n",
      "2  1.435707  10.318491  0.992039\n"
     ]
    }
   ],
   "source": [
    "print(df_1['col1'])\n",
    "print(df_1.iloc[0])\n",
    "print(df_1[['col1', 'col2']])\n",
    "print(df_1[['col1', 'col2']].iloc[1:2])\n",
    "\n",
    "tmp1 = df_1 - df_2\n",
    "tmp2 = df_1 + df_2\n",
    "tmp3 = df_1 * df_2\n",
    "tmp4 = df_1 / df_2\n",
    "\n",
    "print(tmp1)\n",
    "print(tmp2)\n",
    "print(tmp3)\n",
    "print(tmp4)"
   ]
  },
  {
   "cell_type": "code",
   "execution_count": 59,
   "metadata": {},
   "outputs": [
    {
     "name": "stdout",
     "output_type": "stream",
     "text": [
      "       col1      col2      col3      col4\n",
      "0  0.166027  0.005405  0.951838  0.630991\n",
      "1  0.475232  0.656819  0.238904  0.815288\n",
      "2  0.535692  0.977940  0.595468  0.676231\n",
      "[0.14332821 0.01458826 0.99283739]\n",
      "       col2      col3\n",
      "0  0.005405  0.951838\n",
      "1  0.656819  0.238904\n",
      "2  0.977940  0.595468\n",
      "3  0.014588  0.992837\n",
      "       col1      col2      col3\n",
      "0  0.166027  0.005405  0.951838\n",
      "2  0.535692  0.977940  0.595468\n",
      "3  0.143328  0.014588  0.992837\n"
     ]
    }
   ],
   "source": [
    "## 3c. Simple operations\n",
    "\n",
    "row_count=df_1.col1.count()\n",
    "col_count=len(df_1.columns)\n",
    "# add column\n",
    "tmp1 = df_1.assign(col4=pd.Series(np.random.rand(row_count)).values)\n",
    "# add record\n",
    "tmp2 = df_1.loc[df_1.index.max()+1] = np.random.rand(col_count)\n",
    "# remove column\n",
    "tmp3 = df_1.drop(['col1'], axis=1)\n",
    "# remove record\n",
    "tmp4 = df_1.drop(1)\n",
    "\n",
    "print(tmp1)\n",
    "print(tmp2)\n",
    "print(tmp3)\n",
    "print(tmp4)"
   ]
  },
  {
   "cell_type": "markdown",
   "metadata": {},
   "source": [
    "### 3c. Statistical operations"
   ]
  },
  {
   "cell_type": "code",
   "execution_count": 60,
   "metadata": {},
   "outputs": [
    {
     "name": "stdout",
     "output_type": "stream",
     "text": [
      "statistics all\n",
      "sum all:5.754079368321005\n",
      "mean all:0.4795066140267504\n",
      "median all:0.5054623765822894\n",
      "std all:0.36843646677038383\n",
      "statistics col1\n",
      "sum col1:1.320279603942682\n",
      "mean col1:0.3300699009856705\n",
      "median col1:0.320629515541479\n",
      "std col1:0.20423466536737886\n"
     ]
    }
   ],
   "source": [
    "tmp1=df_1.stack().sum() \n",
    "tmp2=df_1.stack().mean() \n",
    "tmp3=df_1.stack().median() \n",
    "tmp4=df_1.stack().std() \n",
    "\n",
    "print(\"statistics all\")\n",
    "print(\"sum all:\" + str(tmp1))\n",
    "print(\"mean all:\" + str(tmp2))\n",
    "print(\"median all:\" + str(tmp3))\n",
    "print(\"std all:\" + str(tmp4))\n",
    "\n",
    "tmp1=df_1['col1'].sum()\n",
    "tmp2=df_1['col1'].mean()\n",
    "tmp3=df_1['col1'].median()\n",
    "tmp4=df_1['col1'].std()\n",
    "\n",
    "print(\"statistics col1\")\n",
    "print(\"sum col1:\" + str(tmp1))\n",
    "print(\"mean col1:\" + str(tmp2))\n",
    "print(\"median col1:\" + str(tmp3))\n",
    "print(\"std col1:\" + str(tmp4))"
   ]
  },
  {
   "cell_type": "code",
   "execution_count": 61,
   "metadata": {},
   "outputs": [
    {
     "name": "stdout",
     "output_type": "stream",
     "text": [
      "multiple statistics\n",
      "statistics all:count    12.000000\n",
      "mean      0.479507\n",
      "std       0.368436\n",
      "min       0.005405\n",
      "25%       0.160352\n",
      "50%       0.505462\n",
      "75%       0.730574\n",
      "max       0.992837\n",
      "dtype: float64\n",
      "statistics col1:count    4.000000\n",
      "mean     0.330070\n",
      "std      0.204235\n",
      "min      0.143328\n",
      "25%      0.160352\n",
      "50%      0.320630\n",
      "75%      0.490347\n",
      "max      0.535692\n",
      "Name: col1, dtype: float64\n"
     ]
    }
   ],
   "source": [
    "print(\"multiple statistics\")\n",
    "tmp1=df_1.stack().describe()\n",
    "tmp2=df_1['col1'].describe()\n",
    "\n",
    "print(\"statistics all:\" + str(tmp1))\n",
    "print(\"statistics col1:\" + str(tmp2))"
   ]
  },
  {
   "cell_type": "code",
   "execution_count": 62,
   "metadata": {},
   "outputs": [
    {
     "name": "stdout",
     "output_type": "stream",
     "text": [
      "correlation:\n",
      "           col1      col2      col3\n",
      "col1  0.041712  0.097607 -0.061475\n",
      "col2  0.097607  0.234490 -0.130261\n",
      "col3 -0.061475 -0.130261  0.124201\n",
      "\n",
      "\n",
      "covariance:\n",
      "           col1      col2      col3\n",
      "col1  1.000000  0.986938 -0.854097\n",
      "col2  0.986938  1.000000 -0.763288\n",
      "col3 -0.854097 -0.763288  1.000000\n"
     ]
    }
   ],
   "source": [
    "tmp1=df_1.cov()\n",
    "tmp2=df_1.corr()\n",
    "\n",
    "print(\"correlation:\\n \" + str(tmp1))\n",
    "print(\"\\n\")\n",
    "print(\"covariance:\\n \" + str(tmp2))"
   ]
  },
  {
   "cell_type": "markdown",
   "metadata": {},
   "source": [
    "## 4. Write/read results to SQLDB "
   ]
  },
  {
   "cell_type": "markdown",
   "metadata": {},
   "source": [
    "### 4a. Load necessary libraries"
   ]
  },
  {
   "cell_type": "code",
   "execution_count": 63,
   "metadata": {},
   "outputs": [],
   "source": [
    "import pyodbc"
   ]
  },
  {
   "cell_type": "markdown",
   "metadata": {},
   "source": [
    "### 4b. Create tables in SQLDB"
   ]
  },
  {
   "cell_type": "code",
   "execution_count": 64,
   "metadata": {},
   "outputs": [],
   "source": [
    "# Go to your SQLDB using SQL Server Management Studio (SMSS) and execute to following script in SQLDB:\n",
    "script = \"\"\"\n",
    "\n",
    "USE [Master]\n",
    "GO\n",
    "\n",
    "CREATE DATABASE pythontest\n",
    "GO\n",
    "\n",
    "USE [pythontest]\n",
    "\n",
    "CREATE TABLE [dbo].[trainingsdata]\n",
    "(  \n",
    " [col1] [float] NOT NULL,\n",
    " [col2] [float] NOT NULL,\n",
    " [col3] [float] NOT NULL\n",
    ")\n",
    "GO\n",
    "\n",
    "\"\"\""
   ]
  },
  {
   "cell_type": "markdown",
   "metadata": {},
   "source": [
    "### 4c. Create connection"
   ]
  },
  {
   "cell_type": "code",
   "execution_count": 65,
   "metadata": {},
   "outputs": [],
   "source": [
    "server  = 'demo-dsvmwin-vm'\n",
    "database = 'pythontest'\n",
    "driver= '{ODBC Driver 17 for SQL Server}'"
   ]
  },
  {
   "cell_type": "code",
   "execution_count": 66,
   "metadata": {},
   "outputs": [],
   "source": [
    "# Make connection to database\n",
    "cnxn = pyodbc.connect('DRIVER='+driver+';SERVER='+server+';PORT=1433;DATABASE='+database + ';Trusted_Connection=yes;')\n",
    "cursor = cnxn.cursor()"
   ]
  },
  {
   "cell_type": "markdown",
   "metadata": {},
   "source": [
    "### 4d. Write/read results to SQLDB"
   ]
  },
  {
   "cell_type": "code",
   "execution_count": 67,
   "metadata": {},
   "outputs": [],
   "source": [
    "#Write results, use pandas dataframe\n",
    "for index,row in df_1.iterrows():\n",
    "    cursor.execute(\"INSERT INTO dbo.trainingsdata([col1],[col2],[col3]) VALUES (?,?,?)\", row['col1'], row['col2'], row['col3'])\n",
    "    cnxn.commit()"
   ]
  },
  {
   "cell_type": "code",
   "execution_count": 68,
   "metadata": {},
   "outputs": [
    {
     "name": "stdout",
     "output_type": "stream",
     "text": [
      "        col1      col2      col3\n",
      "0   0.582270  0.031003  0.802630\n",
      "1   0.104255  0.641051  0.133616\n",
      "2   0.172017  0.497840  0.225676\n",
      "3   0.348590  0.854295  0.151956\n",
      "4   0.147089  0.216612  0.792685\n",
      "5   0.393516  0.940553  0.696722\n",
      "6   0.918742  0.952831  0.274990\n",
      "7   0.151195  0.640710  0.058623\n",
      "8   0.621080  0.493776  0.573558\n",
      "9   0.221855  0.412839  0.266007\n",
      "10  0.918742  0.952831  0.274990\n",
      "11  0.151195  0.640710  0.058623\n",
      "12  0.621080  0.493776  0.573558\n",
      "13  0.221855  0.412839  0.266007\n",
      "14  0.918742  0.952831  0.274990\n",
      "15  0.151195  0.640710  0.058623\n",
      "16  0.621080  0.493776  0.573558\n",
      "17  0.221855  0.412839  0.266007\n",
      "18  0.166027  0.005405  0.951838\n",
      "19  0.475232  0.656819  0.238904\n",
      "20  0.535692  0.977940  0.595468\n",
      "21  0.143328  0.014588  0.992837\n"
     ]
    }
   ],
   "source": [
    "#Read results, use pandas dataframe\n",
    "sql = \"SELECT [col1], [col2], [col3] FROM dbo.trainingsdata\"\n",
    "df_1read = pd.read_sql(sql,cnxn)\n",
    "print(df_1read)\n",
    "cursor.close()"
   ]
  },
  {
   "cell_type": "code",
   "execution_count": null,
   "metadata": {},
   "outputs": [],
   "source": []
  }
 ],
 "metadata": {
  "kernelspec": {
   "display_name": "Python 3",
   "language": "python",
   "name": "python3"
  },
  "language_info": {
   "codemirror_mode": {
    "name": "ipython",
    "version": 3
   },
   "file_extension": ".py",
   "mimetype": "text/x-python",
   "name": "python",
   "nbconvert_exporter": "python",
   "pygments_lexer": "ipython3",
   "version": "3.6.5"
  }
 },
 "nbformat": 4,
 "nbformat_minor": 2
}
